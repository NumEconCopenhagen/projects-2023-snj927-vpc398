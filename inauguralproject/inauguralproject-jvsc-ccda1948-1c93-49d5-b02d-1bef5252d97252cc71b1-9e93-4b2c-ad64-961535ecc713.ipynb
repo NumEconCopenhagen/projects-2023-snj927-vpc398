{
 "cells": [
  {
   "cell_type": "code",
   "execution_count": null,
   "metadata": {},
   "outputs": [],
   "source": []
  }
 ],
 "metadata": {
  "kernelspec": {
   "display_name": "base",
   "language": "python",
   "name": "python3"
  },
  "language_info": {
   "name": "python",
   "version": "3.9.13"
  },
  "vscode": {
   "interpreter": {
    "hash": "6956a9941805add0e73fc9c22eb468d4d8714fb7f536a305c5b1281b8d3c864b"
   }
  }
 },
 "nbformat": 4,
 "nbformat_minor": 5
}
