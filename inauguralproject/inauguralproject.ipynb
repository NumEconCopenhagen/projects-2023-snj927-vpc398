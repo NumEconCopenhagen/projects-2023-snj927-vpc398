{
 "cells": [
  {
   "cell_type": "markdown",
   "metadata": {},
   "source": [
    "# Inaugural Project"
   ]
  },
  {
   "cell_type": "markdown",
   "metadata": {},
   "source": [
    "Imports and set magics:"
   ]
  },
  {
   "cell_type": "code",
   "execution_count": 1,
   "metadata": {},
   "outputs": [],
   "source": [
    "import numpy as np\n",
    "from types import SimpleNamespace\n",
    "from scipy import optimize\n",
    "\n",
    "import pandas as pd \n",
    "import matplotlib.pyplot as plt\n",
    "\n",
    "# autoreload modules when code is run. Otherwise, python will not see recent changes. \n",
    "%load_ext autoreload\n",
    "%autoreload 2\n",
    "\n",
    "# Import your own code\n",
    "import inauguralproject as model"
   ]
  },
  {
   "cell_type": "code",
   "execution_count": 2,
   "metadata": {},
   "outputs": [],
   "source": [
    "\n",
    "# Definerer class fra givet HouseholdSpecializationModel \n",
    "\n",
    "class HouseholdSpecializationModelClass:\n",
    "\n",
    "    def __init__(self):\n",
    "        \"\"\" setup model \"\"\"\n",
    "\n",
    "        # a. create namespaces\n",
    "        par = self.par = SimpleNamespace()\n",
    "        sol = self.sol = SimpleNamespace()\n",
    "\n",
    "        # b. preferences\n",
    "        par.rho = 2.0 #tjek\n",
    "        par.nu = 0.001 #tjek\n",
    "        par.epsilon = 1.0 #tjek\n",
    "        par.omega = 0.5 #tjek\n",
    "\n",
    "        # c. household production\n",
    "        par.alpha = 0.5 #tjek\n",
    "        par.sigma = 1.0 #tjek\n",
    "\n",
    "        # d. wages\n",
    "        par.wM = 1.0 #tjek\n",
    "        par.wF = 1.0 #tjek\n",
    "        par.wF_vec = np.linspace(0.8,1.2,5)\n",
    "\n",
    "        # e. targets\n",
    "        par.beta0_target = 0.4\n",
    "        par.beta1_target = -0.1\n",
    "\n",
    "        # f. solution\n",
    "        sol.LM_vec = np.zeros(par.wF_vec.size)\n",
    "        sol.HM_vec = np.zeros(par.wF_vec.size)\n",
    "        sol.LF_vec = np.zeros(par.wF_vec.size)\n",
    "        sol.HF_vec = np.zeros(par.wF_vec.size)\n",
    "\n",
    "        sol.beta0 = np.nan\n",
    "        sol.beta1 = np.nan\n",
    "\n",
    "    def calc_utility(self,LM,HM,LF,HF):\n",
    "        \"\"\" calculate utility \"\"\"\n",
    "\n",
    "        par = self.par\n",
    "        sol = self.sol\n",
    "\n",
    "        # a. consumption of market goods\n",
    "        C = par.wM*LM + par.wF*LF\n",
    "\n",
    "        # b. home production\n",
    "        if par.sigma == 0:\n",
    "            H = optimize.minimize(HF,HM)\n",
    "        elif par.sigma == 1:\n",
    "            H = HM**(1-par.alpha)*HF**par.alpha\n",
    "        else:\n",
    "            H = ((1-par.alpha)*HM**((par.sigma-1)/par.sigma)+par.alpha*HF**((par.sigma-1)/par.sigma))**(par.sigma/(par.sigma-1))\n",
    "       \n",
    "        # c. total consumption utility\n",
    "        Q = (C**par.omega)*(H**(1-par.omega))\n",
    "        utility = np.fmax(Q,1e-8)**(1-par.rho)/(1-par.rho)\n",
    "\n",
    "        # d. disutlity of work\n",
    "        epsilon_ = 1+1/par.epsilon\n",
    "        TM = LM+HM\n",
    "        TF = LF+HF\n",
    "        disutility = par.nu*(TM**epsilon_/epsilon_+TF**epsilon_/epsilon_)\n",
    "        \n",
    "        return utility - disutility\n",
    "\n",
    "    def solve_discrete(self,do_print=False):\n",
    "        \"\"\" solve model discretely \"\"\"\n",
    "        \n",
    "        par = self.par\n",
    "        sol = self.sol\n",
    "        opt = SimpleNamespace()\n",
    "        \n",
    "        # a. all possible choices\n",
    "        x = np.linspace(0,24,49)\n",
    "        LM,HM,LF,HF = np.meshgrid(x,x,x,x) # all combinations\n",
    "    \n",
    "        LM = LM.ravel() # vector\n",
    "        HM = HM.ravel()\n",
    "        LF = LF.ravel()\n",
    "        HF = HF.ravel()\n",
    "\n",
    "        # b. calculate utility\n",
    "        u = self.calc_utility(LM,HM,LF,HF)\n",
    "    \n",
    "        # c. set to minus infinity if constraint is broken\n",
    "        I = (LM+HM > 24) | (LF+HF > 24) # | is \"or\"\n",
    "        u[I] = -np.inf\n",
    "    \n",
    "        # d. find maximizing argument\n",
    "        j = np.argmax(u)\n",
    "        \n",
    "        opt.LM = LM[j]\n",
    "        opt.HM = HM[j]\n",
    "        opt.LF = LF[j]\n",
    "        opt.HF = HF[j]\n",
    "\n",
    "        # e. print\n",
    "        if do_print:\n",
    "            for k,v in opt.__dict__.items():\n",
    "                print(f'{k} = {v:6.4f}')\n",
    "\n",
    "        return opt\n",
    "    "
   ]
  },
  {
   "attachments": {},
   "cell_type": "markdown",
   "metadata": {},
   "source": [
    "# Question 1\n",
    "\n",
    "**Illustrate how $H_F / H_M$ changes when varying $\\alpha \\in {0.25, 0.5, 0.75}$ and $\\sigma \\in {0.5, 1.0, 1.5}$.**"
   ]
  },
  {
   "cell_type": "code",
   "execution_count": 32,
   "metadata": {},
   "outputs": [
    {
     "name": "stderr",
     "output_type": "stream",
     "text": [
      "/var/folders/qv/tz1h_hsd5fb2k7dm0jrqym9r0000gn/T/ipykernel_59474/2638855021.py:65: RuntimeWarning: divide by zero encountered in reciprocal\n",
      "  H = ((1-par.alpha)*HM**((par.sigma-1)/par.sigma)+par.alpha*HF**((par.sigma-1)/par.sigma))**(par.sigma/(par.sigma-1))\n",
      "/var/folders/qv/tz1h_hsd5fb2k7dm0jrqym9r0000gn/T/ipykernel_59474/2638855021.py:65: RuntimeWarning: invalid value encountered in reciprocal\n",
      "  H = ((1-par.alpha)*HM**((par.sigma-1)/par.sigma)+par.alpha*HF**((par.sigma-1)/par.sigma))**(par.sigma/(par.sigma-1))\n",
      "/var/folders/qv/tz1h_hsd5fb2k7dm0jrqym9r0000gn/T/ipykernel_59474/2638855021.py:69: RuntimeWarning: invalid value encountered in reciprocal\n",
      "  utility = np.fmax(Q,1e-8)**(1-par.rho)/(1-par.rho)\n"
     ]
    },
    {
     "name": "stdout",
     "output_type": "stream",
     "text": [
      "alpha er 0.25 og sigma er 0.5\n",
      "HF:3.0/ HM:5.5 --> 0.5454545454545454\n",
      "alpha er 0.25 og sigma er 1\n",
      "HF:2.0/ HM:6.5 --> 0.3076923076923077\n",
      "alpha er 0.25 og sigma er 1.5\n",
      "HF:1.5/ HM:7.0 --> 0.21428571428571427\n",
      "alpha er 0.5 og sigma er 0.5\n",
      "HF:4.5/ HM:4.5 --> 1.0\n",
      "alpha er 0.5 og sigma er 1\n",
      "HF:4.5/ HM:4.5 --> 1.0\n",
      "alpha er 0.5 og sigma er 1.5\n",
      "HF:4.5/ HM:4.5 --> 1.0\n",
      "alpha er 0.75 og sigma er 0.5\n",
      "HF:5.5/ HM:3.0 --> 1.8333333333333333\n",
      "alpha er 0.75 og sigma er 1\n",
      "HF:6.5/ HM:2.0 --> 3.25\n",
      "alpha er 0.75 og sigma er 1.5\n",
      "HF:7.0/ HM:1.5 --> 4.666666666666667\n"
     ]
    }
   ],
   "source": [
    "#Definerer alpha og sigma værdier\n",
    "\n",
    "alpha_values = [0.25, 0.5, 0.75]\n",
    "sigma_values = [0.5, 1, 1.5]\n",
    "mo = HouseholdSpecializationModelClass()\n",
    "\n",
    "#Printer værdier for HF/HM mht. ovenstående alpha og sigma værdier\n",
    "\n",
    "for alpha in alpha_values:\n",
    "    for sigma in sigma_values:\n",
    "        mo.par.alpha = alpha\n",
    "        mo.par.sigma = sigma\n",
    "        res = mo.solve_discrete()\n",
    "        print(f\"alpha er {alpha} og sigma er {sigma}\")\n",
    "        print(f\"HF:{res.HF}/ HM:{res.HM} --> {res.HF/res.HM}\")\n"
   ]
  },
  {
   "cell_type": "markdown",
   "metadata": {},
   "source": [
    "# Question 2"
   ]
  },
  {
   "cell_type": "markdown",
   "metadata": {},
   "source": [
    "Explain your code and procedure"
   ]
  },
  {
   "cell_type": "code",
   "execution_count": 33,
   "metadata": {},
   "outputs": [
    {
     "name": "stderr",
     "output_type": "stream",
     "text": [
      "/var/folders/qv/tz1h_hsd5fb2k7dm0jrqym9r0000gn/T/ipykernel_59474/2638855021.py:69: RuntimeWarning: invalid value encountered in reciprocal\n",
      "  utility = np.fmax(Q,1e-8)**(1-par.rho)/(1-par.rho)\n"
     ]
    },
    {
     "name": "stdout",
     "output_type": "stream",
     "text": [
      "[0.22314355131420976, 0.0, 0.0, -0.11778303565638351, -0.2231435513142097]\n",
      "[-0.2231435513142097, -0.10536051565782628, 0.0, 0.09531017980432493, 0.1823215567939546]\n"
     ]
    },
    {
     "data": {
      "image/png": "[encoded data removed]",
      "text/plain": [
       "<Figure size 640x480 with 1 Axes>"
      ]
     },
     "metadata": {},
     "output_type": "display_data"
    }
   ],
   "source": [
    "w_f_values = [0.8, 0.9, 1.0, 1.1, 1.2]\n",
    "log_w_f_w_m = []\n",
    "log_h_f_h_m = []\n",
    "mo = HouseholdSpecializationModelClass()\n",
    "for w_f in w_f_values:\n",
    "        mo.par.wF = w_f\n",
    "        res = mo.solve_discrete()\n",
    "        log_w_f_w_m.append(np.log(mo.par.wF/mo.par.wM))\n",
    "        log_h_f_h_m.append(np.log(res.HF/res.HM))\n",
    "fig, ax = plt.subplots()\n",
    "print(log_h_f_h_m)\n",
    "print(log_w_f_w_m)\n",
    "ax.plot(log_w_f_w_m, log_h_f_h_m)\n",
    "ax.set(xlabel='log(wF/wM)', ylabel='log(hF/hM)', title='Question 2')\n",
    "ax.grid()\n",
    "fig.savefig(\"test.png\")\n",
    "plt.show()"
   ]
  },
  {
   "attachments": {},
   "cell_type": "markdown",
   "metadata": {},
   "source": [
    "Jf. ovenstående plot kan det ses at jo højere løn kvinder har ift. mænd, jo mindre tid arbejder de i hjemmet. "
   ]
  },
  {
   "cell_type": "markdown",
   "metadata": {},
   "source": [
    "# Question 3"
   ]
  },
  {
   "cell_type": "code",
   "execution_count": 135,
   "metadata": {},
   "outputs": [
    {
     "name": "stdout",
     "output_type": "stream",
     "text": [
      "wF/wM = 0.8: log(HF)/log(HM) = 0.971\n",
      "wF/wM = 0.9: log(HF)/log(HM) = 0.983\n",
      "wF/wM = 1.0: log(HF)/log(HM) = 1.094\n",
      "wF/wM = 1.1: log(HF)/log(HM) = 0.943\n",
      "wF/wM = 1.2: log(HF)/log(HM) = 0.950\n"
     ]
    },
    {
     "name": "stderr",
     "output_type": "stream",
     "text": [
      "/Users/poulmartinpetri/opt/anaconda3/lib/python3.9/site-packages/scipy/optimize/_minimize.py:569: RuntimeWarning: Method Nelder-Mead cannot handle constraints.\n",
      "  warn('Method %s cannot handle constraints.' % method,\n",
      "/var/folders/qv/tz1h_hsd5fb2k7dm0jrqym9r0000gn/T/ipykernel_59474/3329733139.py:26: RuntimeWarning: invalid value encountered in double_scalars\n",
      "  Q = C**omega * H**(1-omega)\n"
     ]
    }
   ],
   "source": [
    "import numpy as np\n",
    "from scipy.optimize import minimize\n",
    "\n",
    "# Baseline parameters\n",
    "a = 0.5\n",
    "sigma = 1\n",
    "omega = 0.5\n",
    "rho = 2\n",
    "v = 0.001\n",
    "epsilon = 1\n",
    "wM = 1\n",
    "\n",
    "# Vi sætter værdierne for w_F til at være: \n",
    "wF_list = [0.8, 0.9, 1.0, 1.1, 1.2]\n",
    "\n",
    "# Vi definerer home produktion H og tilhørende budget restriktioner\n",
    "def u(x, wF):\n",
    "    LM, HM, LF, HF = x\n",
    "    C = wM * LM + wF * LF\n",
    "    if sigma == 0:\n",
    "        H = min(HM, HF)\n",
    "    elif sigma == 1:\n",
    "        H = HM**(1-a) * HF**a\n",
    "    else:\n",
    "        H = ((1-a) * HM**((sigma-1)/sigma) + a * HF**((sigma-1)/sigma))**(sigma/(sigma-1))\n",
    "    Q = C**omega * H**(1-omega)\n",
    "    T = LM + HM + LF + HF\n",
    "    disutility = v * (LM**(1+1/epsilon) / (1+1/epsilon) + LF**(1+1/epsilon) / (1+1/epsilon))\n",
    "    return -(Q**(1-rho) / (1-rho) - disutility)\n",
    "\n",
    "# Constraints\n",
    "cons = ({'type': 'ineq', 'fun': lambda x: wM * x[0] + wF * x[2] - x[3]},\n",
    "        {'type': 'ineq', 'fun': lambda x: wM * x[1] + wF * x[3] - x[2]},\n",
    "        {'type': 'ineq', 'fun': lambda x: x[0] + x[1] - 24},\n",
    "        {'type': 'ineq', 'fun': lambda x: x[2] + x[3] - 24},\n",
    "        {'type': 'ineq', 'fun': lambda x: x[0]},\n",
    "        {'type': 'ineq', 'fun': lambda x: x[1]},\n",
    "        {'type': 'ineq', 'fun': lambda x: x[2]},\n",
    "        {'type': 'ineq', 'fun': lambda x: x[3]})\n",
    "# Constraints sikrer, at summerne af henholdsvis de første to og de sidste to variabler er mindre end eller lig med 24.\n",
    "\n",
    "# Forskellige værdier af wF\n",
    "for wF in wF_list:\n",
    "    result = minimize(u, [12, 6, 12, 6], args=(wF,), constraints=cons, method='Nelder-Mead')\n",
    "    LM, HM, LF, HF = result.x\n",
    "    print(f\"wF/wM = {wF/wM:.1f}: log(HF)/log(HM) = {np.log(HF)/np.log(HM):.3f}\")\n",
    "\n",
    "# Koden definerer en nyttefunktion \"u(x, wF)\", som tager fire beslutningsvariable og en parameter \"wF\" som input. \n",
    "# Derefter løser den optimeringsproblemet for forskellige værdier af \"wF\". \n",
    "# Optimeringsproblemet har otte ulighedsbetingelser, der inkluderer beslutningsvariable og \"wF\"."
   ]
  },
  {
   "attachments": {},
   "cell_type": "markdown",
   "metadata": {},
   "source": [
    "# Question 4"
   ]
  },
  {
   "cell_type": "code",
   "execution_count": 136,
   "metadata": {},
   "outputs": [
    {
     "name": "stderr",
     "output_type": "stream",
     "text": [
      "/Users/poulmartinpetri/Library/CloudStorage/OneDrive-UniversityofCopenhagen/KU - Polit/6. SEM/INTRO. PROG./projects-2023-snj927-vpc398/inauguralproject/inauguralproject.py:61: RuntimeWarning: divide by zero encountered in double_scalars\n",
      "  else:\n",
      "/Users/poulmartinpetri/Library/CloudStorage/OneDrive-UniversityofCopenhagen/KU - Polit/6. SEM/INTRO. PROG./projects-2023-snj927-vpc398/inauguralproject/inauguralproject.py:61: RuntimeWarning: invalid value encountered in double_scalars\n",
      "  else:\n"
     ]
    },
    {
     "name": "stdout",
     "output_type": "stream",
     "text": [
      "To minimize the squared deviation, the values for the parametres should be: alpha = 0.988 and sigma = 0.091\n"
     ]
    }
   ],
   "source": [
    "#Minimize calculation\n",
    "\n",
    "from scipy import optimize\n",
    "import inauguralproject\n",
    "\n",
    "def objective_func(par): \n",
    "    alpha, sigma = par\n",
    "    model = inauguralproject.HouseholdSpecializationModelClass()\n",
    "    model.par.alpha = alpha\n",
    "    model.par.sigma = sigma\n",
    "    b_0 = 0.4\n",
    "    b_1 = -0.1\n",
    "\n",
    "    for i in range(5):\n",
    "        model.par.wF = model.par.wF_vec[i]\n",
    "        results = model.solve_continous()\n",
    "        model.sol.HF_vec[i] = results.HF\n",
    "        model.sol.HM_vec[i] = results.HM\n",
    "\n",
    "    model.run_regression()\n",
    "    b_hat_0 = model.sol.beta0\n",
    "    b_hat_1 = model.sol.beta1\n",
    "    return ((b_0 - b_hat_0)**2 + (b_1 - b_hat_1)**2)\n",
    "\n",
    "\n",
    "par_guess = [0.5,1.0]\n",
    "bounds = ((0,1),(0,4))\n",
    "\n",
    "result = optimize.minimize(objective_func, par_guess,bounds=bounds, method = \"Nelder-Mead\")\n",
    "x = (result.x[0],result.x[1])\n",
    "print(f'To minimize the squared deviation, the values for the parametres should be: alpha = {result.x[0]:.3f} and sigma = {result.x[1]:.3f}')"
   ]
  },
  {
   "attachments": {},
   "cell_type": "markdown",
   "metadata": {},
   "source": [
    "# Question 5"
   ]
  },
  {
   "attachments": {},
   "cell_type": "markdown",
   "metadata": {},
   "source": [
    "Vi havde store problemer med at få kodningen til at virke, hvilket vi beklager. Gentagende gange i spørgsmål 3 og 4 får vi en fejlmeddelse \"Output exceeds the size limit. Open the full output data in a text editor\", som gør at vi ikke kunne plotte. Samme problemstilling er vi løbet ind i spørgsmål 5, hvor vi får at vide at nogle af vores variable er ulovlige.\n",
    "\n",
    "Derfor har vi ikke kunne færdiggøre vores projekt (spørgsmål 5). Det er igen meget beklageligt, og vi vil naturligvis hive fat i vores holdunderviser, Jonas, så det er løst før eksamen og endelig aflevering af projekt. "
   ]
  }
 ],
 "metadata": {
  "kernelspec": {
   "display_name": "base",
   "language": "python",
   "name": "python3"
  },
  "language_info": {
   "codemirror_mode": {
    "name": "ipython",
    "version": 3
   },
   "file_extension": ".py",
   "mimetype": "text/x-python",
   "name": "python",
   "nbconvert_exporter": "python",
   "pygments_lexer": "ipython3",
   "version": "3.9.13"
  },
  "toc-autonumbering": true,
  "vscode": {
   "interpreter": {
    "hash": "6956a9941805add0e73fc9c22eb468d4d8714fb7f536a305c5b1281b8d3c864b"
   }
  }
 },
 "nbformat": 4,
 "nbformat_minor": 4
}
