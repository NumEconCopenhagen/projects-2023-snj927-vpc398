{
 "cells": [
  {
   "attachments": {},
   "cell_type": "markdown",
   "metadata": {},
   "source": [
    "**Table of contents**<a id='toc0_'></a>    \n",
    "- 1. [Problem 1: Optimal taxation with government consumption](#toc1_)    \n",
    "- 2. [Problem 2: Labor adjustment costs](#toc2_)    \n",
    "- 3. [Problem 3: Global optimizer with refined multi-start](#toc3_)    \n",
    "\n",
    "<!-- vscode-jupyter-toc-config\n",
    "\tnumbering=true\n",
    "\tanchor=true\n",
    "\tflat=false\n",
    "\tminLevel=2\n",
    "\tmaxLevel=6\n",
    "\t/vscode-jupyter-toc-config -->\n",
    "<!-- THIS CELL WILL BE REPLACED ON TOC UPDATE. DO NOT WRITE YOUR TEXT IN THIS CELL -->"
   ]
  },
  {
   "attachments": {},
   "cell_type": "markdown",
   "metadata": {},
   "source": [
    "## 1. <a id='toc1_'></a>[Problem 1: Optimal taxation with government consumption](#toc0_)"
   ]
  },
  {
   "attachments": {},
   "cell_type": "markdown",
   "metadata": {},
   "source": [
    "\n",
    "Consider a worker choosing hours of labor, $L\\in[0,24]$, to maximize utility: \n",
    "\n",
    "$$\n",
    "\\begin{align*}\n",
    "V(w,\\tau,G)&=\\max_{L\\in[0,24]}\\ln\\left(C^{\\alpha}G^{1-\\alpha}\\right)-\\nu\\frac{L^{2}}{2}\\\\&\\text{s.t.}\\\\&C=\\kappa+(1-\\tau)wL\n",
    "\\end{align*}\n",
    "$$\n",
    "\n",
    "where \n",
    "\n",
    "* $C$ is *private* consumption with weight $\\alpha\\in(0,1)$.\n",
    "* $\\kappa > 0$ is the *free private* consumption component.\n",
    "* $w > 0 $ is the real wage.\n",
    "* $\\tau \\in (0,1)$ is the labor-income tax rate.\n",
    "* $G > 0 $ is *government* consumption with weight $1-\\alpha$.\n",
    "* $\\nu > 0$ is the disutility of labor scaling factor"
   ]
  },
  {
   "attachments": {},
   "cell_type": "markdown",
   "metadata": {},
   "source": [
    "\n",
    "The baseline parameters are:\n",
    "\n",
    "$$\n",
    "\\begin{align*}\n",
    "\\alpha &= 0.5\\\\\n",
    "\\kappa &= 1.0\\\\\n",
    "\\nu &= \\frac{1}{2\\cdot16^2} \\\\\n",
    "w &= 1.0 \\\\ \n",
    "\\tau &= 0.30 \\\\\n",
    "\\end{align*}\n",
    "$$"
   ]
  },
  {
   "attachments": {},
   "cell_type": "markdown",
   "metadata": {},
   "source": [
    "**Question 1:** Verify that the optimal labor supply choice is $L^{\\star}(\\tilde{w}) =\\frac{-\\kappa+\\sqrt{\\kappa^{2}+4\\frac{\\alpha}{\\nu}\\tilde{w}^2}}{2\\tilde{w}}$, where $\\tilde{w} = (1-\\tau)w$, for $G\\in\\left\\{1.0 , 2.0\\right\\}$."
   ]
  },
  {
   "cell_type": "code",
   "execution_count": 55,
   "metadata": {},
   "outputs": [
    {
     "name": "stdout",
     "output_type": "stream",
     "text": [
      "For G = 1.0:\n",
      "w_tilde = 0.07, L* = 603.82\n",
      "w_tilde = 0.14, L* = 212.47\n",
      "w_tilde = 0.21, L* = 115.23\n",
      "w_tilde = 0.28, L* = 74.62\n",
      "w_tilde = 0.35, L* = 53.25\n",
      "w_tilde = 0.42, L* = 40.41\n",
      "w_tilde = 0.49, L* = 32.00\n",
      "w_tilde = 0.56, L* = 26.13\n",
      "w_tilde = 0.63, L* = 21.86\n",
      "w_tilde = 0.70, L* = 18.63\n",
      "w_tilde = 0.77, L* = 16.12\n",
      "w_tilde = 0.84, L* = 14.12\n",
      "w_tilde = 0.91, L* = 12.51\n",
      "w_tilde = 0.98, L* = 11.17\n",
      "w_tilde = 1.05, L* = 10.06\n",
      "w_tilde = 1.12, L* = 9.12\n",
      "w_tilde = 1.19, L* = 8.32\n",
      "w_tilde = 1.26, L* = 7.62\n",
      "w_tilde = 1.33, L* = 7.02\n",
      "w_tilde = 1.40, L* = 6.49\n",
      "w_tilde = 1.47, L* = 6.03\n",
      "w_tilde = 1.54, L* = 5.61\n",
      "w_tilde = 1.61, L* = 5.24\n",
      "w_tilde = 1.68, L* = 4.92\n",
      "w_tilde = 1.75, L* = 4.62\n",
      "w_tilde = 1.82, L* = 4.35\n",
      "w_tilde = 1.89, L* = 4.11\n",
      "w_tilde = 1.96, L* = 3.88\n",
      "w_tilde = 2.03, L* = 3.68\n",
      "w_tilde = 2.10, L* = 3.49\n",
      "w_tilde = 2.17, L* = 3.32\n",
      "w_tilde = 2.24, L* = 3.17\n",
      "w_tilde = 2.31, L* = 3.02\n",
      "w_tilde = 2.38, L* = 2.89\n",
      "w_tilde = 2.45, L* = 2.76\n",
      "w_tilde = 2.52, L* = 2.64\n",
      "w_tilde = 2.59, L* = 2.53\n",
      "w_tilde = 2.66, L* = 2.43\n",
      "w_tilde = 2.73, L* = 2.34\n",
      "w_tilde = 2.80, L* = 2.25\n",
      "w_tilde = 2.87, L* = 2.17\n",
      "w_tilde = 2.94, L* = 2.09\n",
      "w_tilde = 3.01, L* = 2.01\n",
      "w_tilde = 3.08, L* = 1.94\n",
      "w_tilde = 3.15, L* = 1.88\n",
      "w_tilde = 3.22, L* = 1.82\n",
      "w_tilde = 3.29, L* = 1.76\n",
      "w_tilde = 3.36, L* = 1.70\n",
      "w_tilde = 3.43, L* = 1.65\n",
      "w_tilde = 3.50, L* = 1.60\n",
      "w_tilde = 3.57, L* = 1.55\n",
      "w_tilde = 3.64, L* = 1.50\n",
      "w_tilde = 3.71, L* = 1.46\n",
      "w_tilde = 3.78, L* = 1.42\n",
      "w_tilde = 3.85, L* = 1.38\n",
      "w_tilde = 3.92, L* = 1.34\n",
      "w_tilde = 3.99, L* = 1.31\n",
      "w_tilde = 4.06, L* = 1.27\n",
      "w_tilde = 4.13, L* = 1.24\n",
      "w_tilde = 4.20, L* = 1.21\n",
      "w_tilde = 4.27, L* = 1.18\n",
      "w_tilde = 4.34, L* = 1.15\n",
      "w_tilde = 4.41, L* = 1.12\n",
      "w_tilde = 4.48, L* = 1.09\n",
      "w_tilde = 4.55, L* = 1.07\n",
      "w_tilde = 4.62, L* = 1.04\n",
      "w_tilde = 4.69, L* = 1.02\n",
      "w_tilde = 4.76, L* = 0.99\n",
      "w_tilde = 4.83, L* = 0.97\n",
      "w_tilde = 4.90, L* = 0.95\n",
      "w_tilde = 4.97, L* = 0.93\n",
      "w_tilde = 5.04, L* = 0.91\n",
      "w_tilde = 5.11, L* = 0.89\n",
      "w_tilde = 5.18, L* = 0.87\n",
      "w_tilde = 5.25, L* = 0.85\n",
      "w_tilde = 5.32, L* = 0.84\n",
      "w_tilde = 5.39, L* = 0.82\n",
      "w_tilde = 5.46, L* = 0.80\n",
      "w_tilde = 5.53, L* = 0.79\n",
      "w_tilde = 5.60, L* = 0.77\n",
      "w_tilde = 5.67, L* = 0.76\n",
      "w_tilde = 5.74, L* = 0.74\n",
      "w_tilde = 5.81, L* = 0.73\n",
      "w_tilde = 5.88, L* = 0.72\n",
      "w_tilde = 5.95, L* = 0.70\n",
      "w_tilde = 6.02, L* = 0.69\n",
      "w_tilde = 6.09, L* = 0.68\n",
      "w_tilde = 6.16, L* = 0.67\n",
      "w_tilde = 6.23, L* = 0.66\n",
      "w_tilde = 6.30, L* = 0.64\n",
      "w_tilde = 6.37, L* = 0.63\n",
      "w_tilde = 6.44, L* = 0.62\n",
      "w_tilde = 6.51, L* = 0.61\n",
      "w_tilde = 6.58, L* = 0.60\n",
      "w_tilde = 6.65, L* = 0.59\n",
      "w_tilde = 6.72, L* = 0.58\n",
      "w_tilde = 6.79, L* = 0.57\n",
      "w_tilde = 6.86, L* = 0.57\n",
      "w_tilde = 6.93, L* = 0.56\n",
      "w_tilde = 7.00, L* = 0.55\n",
      "\n",
      "For G = 2.0:\n",
      "w_tilde = 0.07, L* = 603.82\n",
      "w_tilde = 0.14, L* = 212.47\n",
      "w_tilde = 0.21, L* = 115.23\n",
      "w_tilde = 0.28, L* = 74.62\n",
      "w_tilde = 0.35, L* = 53.25\n",
      "w_tilde = 0.42, L* = 40.41\n",
      "w_tilde = 0.49, L* = 32.00\n",
      "w_tilde = 0.56, L* = 26.13\n",
      "w_tilde = 0.63, L* = 21.86\n",
      "w_tilde = 0.70, L* = 18.63\n",
      "w_tilde = 0.77, L* = 16.12\n",
      "w_tilde = 0.84, L* = 14.12\n",
      "w_tilde = 0.91, L* = 12.51\n",
      "w_tilde = 0.98, L* = 11.17\n",
      "w_tilde = 1.05, L* = 10.06\n",
      "w_tilde = 1.12, L* = 9.12\n",
      "w_tilde = 1.19, L* = 8.32\n",
      "w_tilde = 1.26, L* = 7.62\n",
      "w_tilde = 1.33, L* = 7.02\n",
      "w_tilde = 1.40, L* = 6.49\n",
      "w_tilde = 1.47, L* = 6.03\n",
      "w_tilde = 1.54, L* = 5.61\n",
      "w_tilde = 1.61, L* = 5.24\n",
      "w_tilde = 1.68, L* = 4.92\n",
      "w_tilde = 1.75, L* = 4.62\n",
      "w_tilde = 1.82, L* = 4.35\n",
      "w_tilde = 1.89, L* = 4.11\n",
      "w_tilde = 1.96, L* = 3.88\n",
      "w_tilde = 2.03, L* = 3.68\n",
      "w_tilde = 2.10, L* = 3.49\n",
      "w_tilde = 2.17, L* = 3.32\n",
      "w_tilde = 2.24, L* = 3.17\n",
      "w_tilde = 2.31, L* = 3.02\n",
      "w_tilde = 2.38, L* = 2.89\n",
      "w_tilde = 2.45, L* = 2.76\n",
      "w_tilde = 2.52, L* = 2.64\n",
      "w_tilde = 2.59, L* = 2.53\n",
      "w_tilde = 2.66, L* = 2.43\n",
      "w_tilde = 2.73, L* = 2.34\n",
      "w_tilde = 2.80, L* = 2.25\n",
      "w_tilde = 2.87, L* = 2.17\n",
      "w_tilde = 2.94, L* = 2.09\n",
      "w_tilde = 3.01, L* = 2.01\n",
      "w_tilde = 3.08, L* = 1.94\n",
      "w_tilde = 3.15, L* = 1.88\n",
      "w_tilde = 3.22, L* = 1.82\n",
      "w_tilde = 3.29, L* = 1.76\n",
      "w_tilde = 3.36, L* = 1.70\n",
      "w_tilde = 3.43, L* = 1.65\n",
      "w_tilde = 3.50, L* = 1.60\n",
      "w_tilde = 3.57, L* = 1.55\n",
      "w_tilde = 3.64, L* = 1.50\n",
      "w_tilde = 3.71, L* = 1.46\n",
      "w_tilde = 3.78, L* = 1.42\n",
      "w_tilde = 3.85, L* = 1.38\n",
      "w_tilde = 3.92, L* = 1.34\n",
      "w_tilde = 3.99, L* = 1.31\n",
      "w_tilde = 4.06, L* = 1.27\n",
      "w_tilde = 4.13, L* = 1.24\n",
      "w_tilde = 4.20, L* = 1.21\n",
      "w_tilde = 4.27, L* = 1.18\n",
      "w_tilde = 4.34, L* = 1.15\n",
      "w_tilde = 4.41, L* = 1.12\n",
      "w_tilde = 4.48, L* = 1.09\n",
      "w_tilde = 4.55, L* = 1.07\n",
      "w_tilde = 4.62, L* = 1.04\n",
      "w_tilde = 4.69, L* = 1.02\n",
      "w_tilde = 4.76, L* = 0.99\n",
      "w_tilde = 4.83, L* = 0.97\n",
      "w_tilde = 4.90, L* = 0.95\n",
      "w_tilde = 4.97, L* = 0.93\n",
      "w_tilde = 5.04, L* = 0.91\n",
      "w_tilde = 5.11, L* = 0.89\n",
      "w_tilde = 5.18, L* = 0.87\n",
      "w_tilde = 5.25, L* = 0.85\n",
      "w_tilde = 5.32, L* = 0.84\n",
      "w_tilde = 5.39, L* = 0.82\n",
      "w_tilde = 5.46, L* = 0.80\n",
      "w_tilde = 5.53, L* = 0.79\n",
      "w_tilde = 5.60, L* = 0.77\n",
      "w_tilde = 5.67, L* = 0.76\n",
      "w_tilde = 5.74, L* = 0.74\n",
      "w_tilde = 5.81, L* = 0.73\n",
      "w_tilde = 5.88, L* = 0.72\n",
      "w_tilde = 5.95, L* = 0.70\n",
      "w_tilde = 6.02, L* = 0.69\n",
      "w_tilde = 6.09, L* = 0.68\n",
      "w_tilde = 6.16, L* = 0.67\n",
      "w_tilde = 6.23, L* = 0.66\n",
      "w_tilde = 6.30, L* = 0.64\n",
      "w_tilde = 6.37, L* = 0.63\n",
      "w_tilde = 6.44, L* = 0.62\n",
      "w_tilde = 6.51, L* = 0.61\n",
      "w_tilde = 6.58, L* = 0.60\n",
      "w_tilde = 6.65, L* = 0.59\n",
      "w_tilde = 6.72, L* = 0.58\n",
      "w_tilde = 6.79, L* = 0.57\n",
      "w_tilde = 6.86, L* = 0.57\n",
      "w_tilde = 6.93, L* = 0.56\n",
      "w_tilde = 7.00, L* = 0.55\n",
      "\n"
     ]
    }
   ],
   "source": [
    "import numpy as np\n",
    "from scipy import optimize\n",
    "\n",
    "# Define the parameters\n",
    "alpha = 0.5\n",
    "kappa = 1.0\n",
    "nu = 1 / (2 * 16 ** 2)\n",
    "omega = 1.0\n",
    "tau = 0.30\n",
    "\n",
    "# Define the utility function\n",
    "def utility(L, w):\n",
    "    C = kappa + (1 - tau) * w * L\n",
    "    return np.log(C * alpha * w * (1 - alpha)) - (nu * L ** 2) / 2\n",
    "\n",
    "# Define the constraint function\n",
    "def constraint(L, w):\n",
    "    C = kappa + (1 - tau) * w * L\n",
    "    return C\n",
    "\n",
    "# Calculate the optimal labor supply choice for each wage value\n",
    "wage_values = np.linspace(0.1, 10, 100)\n",
    "G_values = [1.0, 2.0]\n",
    "\n",
    "for G in G_values:\n",
    "    w_tilde_values = (1 - tau) * wage_values\n",
    "    L_star_formula = (-kappa + np.sqrt(kappa * 2 + 4 * alpha / (nu * w_tilde_values * 2))) / (2 * w_tilde_values)\n",
    "\n",
    "    print(f\"For G = {G}:\")\n",
    "    for i, w_tilde in enumerate(w_tilde_values):\n",
    "        L_star = L_star_formula[i]\n",
    "        print(f\"w_tilde = {w_tilde:.2f}, L* = {L_star:.2f}\")\n",
    "    \n",
    "    print()"
   ]
  },
  {
   "attachments": {},
   "cell_type": "markdown",
   "metadata": {},
   "source": [
    "**Question 2:** Illustrate how $L^{\\star}(\\tilde{w})$ depends on $w$."
   ]
  },
  {
   "cell_type": "code",
   "execution_count": 56,
   "metadata": {},
   "outputs": [
    {
     "data": {
      "image/png": "[encoded data removed]",
      "text/plain": [
       "<Figure size 640x480 with 1 Axes>"
      ]
     },
     "metadata": {},
     "output_type": "display_data"
    }
   ],
   "source": [
    "import numpy as np\n",
    "import matplotlib.pyplot as plt\n",
    "\n",
    "# Define the parameters\n",
    "alpha = 0.5\n",
    "kappa = 1.0\n",
    "nu = 1 / (2 * 16 ** 2)\n",
    "omega = 1.0\n",
    "tau = 0.30\n",
    "\n",
    "# Define the formula for L*(w_tilde)\n",
    "def optimal_labor_supply(w_tilde):\n",
    "    return (-kappa + np.sqrt(kappa**2 + 4 * alpha / (nu * w_tilde**2))) / (2 * w_tilde)\n",
    "\n",
    "# Create an array of w_tilde values\n",
    "w_tilde_values = np.linspace(0.1, 10, 100)\n",
    "\n",
    "# Calculate the corresponding L*(w_tilde) values\n",
    "L_star_values = optimal_labor_supply(w_tilde_values)\n",
    "\n",
    "# Plot the relationship between L*(w_tilde) and w_tilde\n",
    "plt.plot(w_tilde_values, L_star_values)\n",
    "plt.xlabel('w_tilde')\n",
    "plt.ylabel('L*(w_tilde)')\n",
    "plt.title('Optimal Labor Supply vs. w_tilde')\n",
    "plt.grid(True)\n",
    "plt.show()"
   ]
  },
  {
   "attachments": {},
   "cell_type": "markdown",
   "metadata": {},
   "source": [
    "\n",
    "We now consider a government, who chooses $\\tau$ and spend all of the taxes on government consumption so:\n",
    "\n",
    "$$\n",
    "G = \\tau w L^{\\star}((1-\\tau)w)\n",
    "$$\n",
    "\n",
    "**Question 3:** Plot the implied $L$, $G$ and worker utility for a grid of $\\tau$-values.\n"
   ]
  },
  {
   "cell_type": "code",
   "execution_count": 57,
   "metadata": {},
   "outputs": [
    {
     "data": {
      "image/png": "[encoded data removed]",
      "text/plain": [
       "<Figure size 1000x600 with 3 Axes>"
      ]
     },
     "metadata": {},
     "output_type": "display_data"
    }
   ],
   "source": [
    "import numpy as np\n",
    "import matplotlib.pyplot as plt\n",
    "\n",
    "# Define the parameters\n",
    "alpha = 0.5\n",
    "kappa = 1.0\n",
    "nu = 1 / (2 * 16 ** 2)\n",
    "omega = 1.0\n",
    "w = 1.0\n",
    "\n",
    "# Define the utility function\n",
    "def utility(L, w, tau):\n",
    "    C = kappa + (1 - tau) * w * L\n",
    "    return np.log(C * alpha * w * (1 - alpha)) - (nu * L ** 2) / 2\n",
    "\n",
    "# Define the equation for G\n",
    "def government_consumption(L, w, tau):\n",
    "    return tau * w * L * ((1 - tau) * omega)\n",
    "\n",
    "# Create a grid of tau values\n",
    "tau_values = np.linspace(0.1, 0.9, 100)\n",
    "\n",
    "# Calculate the implied values of L, G, and utility for each tau value\n",
    "L_values = []\n",
    "G_values = []\n",
    "utility_values = []\n",
    "\n",
    "for tau in tau_values:\n",
    "    # Solve for the optimal labor supply (L*)\n",
    "    L_star = (-kappa + np.sqrt(kappa * 2 + 4 * alpha / (nu * (1 - tau) * omega * w * 2))) / (2 * (1 - tau) * omega * w)\n",
    "    L_values.append(L_star)\n",
    "    \n",
    "    # Calculate the implied government consumption (G)\n",
    "    G = government_consumption(L_star, w, tau)\n",
    "    G_values.append(G)\n",
    "    \n",
    "    # Calculate the utility\n",
    "    U = utility(L_star, w, tau)\n",
    "    utility_values.append(U)\n",
    "\n",
    "# Plot the results\n",
    "plt.figure(figsize=(10, 6))\n",
    "\n",
    "plt.subplot(2, 2, 1)\n",
    "plt.plot(tau_values, L_values)\n",
    "plt.xlabel('τ')\n",
    "plt.ylabel('L')\n",
    "plt.title('Labor Supply')\n",
    "\n",
    "plt.subplot(2, 2, 2)\n",
    "plt.plot(tau_values, G_values)\n",
    "plt.xlabel('τ')\n",
    "plt.ylabel('G')\n",
    "plt.title('Government Consumption')\n",
    "\n",
    "plt.subplot(2, 1, 2)\n",
    "plt.plot(tau_values, utility_values)\n",
    "plt.xlabel('τ')\n",
    "plt.ylabel('Utility')\n",
    "plt.title('Worker Utility')\n",
    "\n",
    "plt.tight_layout()\n",
    "plt.show()"
   ]
  },
  {
   "attachments": {},
   "cell_type": "markdown",
   "metadata": {},
   "source": [
    "**Question 4:** Find the socially optimal tax rate $\\tau^{\\star}\\in(0,1)$ maximizing worker utility. Illustrate your result."
   ]
  },
  {
   "cell_type": "code",
   "execution_count": 58,
   "metadata": {},
   "outputs": [
    {
     "name": "stdout",
     "output_type": "stream",
     "text": [
      "The socially optimal tax rate (τ^*) maximizing worker utility: 0.0988\n"
     ]
    },
    {
     "data": {
      "image/png": "[encoded data removed]",
      "text/plain": [
       "<Figure size 640x480 with 1 Axes>"
      ]
     },
     "metadata": {},
     "output_type": "display_data"
    }
   ],
   "source": [
    "import numpy as np\n",
    "import matplotlib.pyplot as plt\n",
    "from scipy import optimize\n",
    "\n",
    "# Define the parameters\n",
    "alpha = 0.5\n",
    "kappa = 1.0\n",
    "nu = 1 / (2 * 16 ** 2)\n",
    "omega = 1.0\n",
    "w = 1.0\n",
    "\n",
    "# Define the utility function\n",
    "def utility(L, w, tau):\n",
    "    C = kappa + (1 - tau) * w * L\n",
    "    return np.log(C * alpha * w * (1 - alpha)) - (nu * L ** 2) / 2\n",
    "\n",
    "# Define the objective function to maximize (negative utility)\n",
    "def objective(tau):\n",
    "    L_star = (-kappa + np.sqrt(kappa * 2 + 4 * alpha / (nu * (1 - tau) * omega * w * 2))) / (2 * (1 - tau) * omega * w)\n",
    "    U = utility(L_star, w, tau)\n",
    "    return -U\n",
    "\n",
    "# Set up the optimization problem\n",
    "tau_optimal = optimize.minimize_scalar(objective, bounds=(0, 1), method='bounded')\n",
    "\n",
    "# Retrieve the optimal tax rate\n",
    "tau_star = tau_optimal.x\n",
    "\n",
    "# Print the optimal tax rate\n",
    "print(\"The socially optimal tax rate (τ^*) maximizing worker utility: {:.4f}\".format(tau_star))\n",
    "\n",
    "# Plot the worker utility as a function of tax rate\n",
    "tau_values = np.linspace(0.01, 0.99, 100)\n",
    "utility_values = [-objective(tau) for tau in tau_values]\n",
    "\n",
    "plt.plot(tau_values, utility_values)\n",
    "plt.xlabel('Tax Rate (τ)')\n",
    "plt.ylabel('Worker Utility')\n",
    "plt.title('Worker Utility as a Function of Tax Rate')\n",
    "plt.grid(True)\n",
    "plt.show()"
   ]
  },
  {
   "attachments": {},
   "cell_type": "markdown",
   "metadata": {},
   "source": [
    "A more general preference formulation for the worker is:\n",
    "\n",
    "$$\n",
    "\\begin{align*}\n",
    "\\mathcal{V}(w,\\tau,G)&=\\max_{L\\in[0,24]}\\frac{\\left[ \\left( \\alpha C^{\\frac{\\sigma-1}{\\sigma}}+(1-\\alpha) G^{\\frac{\\sigma-1}{\\sigma}} \\right)^{\\frac{\\sigma}{1-\\sigma} }\\right]^{1-\\rho}-1}{1-\\rho}- \\nu\\frac{L^{1+\\varepsilon}}{1+\\varepsilon},\\,\\,\\,\\varepsilon,\\rho,\\sigma>0,\\,\\,\\,\\rho,\\sigma\\neq1\\\\&\\text{s.t.}\\\\&C=\\kappa+(1-\\tau)wL\n",
    "\\end{align*}    \n",
    "$$\n",
    "\n",
    "Optimal labor supply is now $L^{\\star}(\\tilde{w},G)$."
   ]
  },
  {
   "attachments": {},
   "cell_type": "markdown",
   "metadata": {},
   "source": [
    "Questions 5 and 6 must be answered with the general formulation, and for 2 different set of parameters:\n",
    "\n",
    "- Set 1:  $\\sigma = 1.001$, $\\rho = 1.001$ and $\\varepsilon = 1.0$.\n",
    "- Set 2:  $\\sigma = 1.5$, $\\rho = 1.5$ and $\\varepsilon = 1.0 $."
   ]
  },
  {
   "attachments": {},
   "cell_type": "markdown",
   "metadata": {},
   "source": [
    "**Question 5:** Find the $G$ that solves $G = \\tau w L^{\\star}((1-\\tau)w,G)$ using the $\\tau$ found in question 4.\n",
    "\n",
    "*Hint: First write code that solves the worker problem for given values of $G$ and $\\tau$. Then find the correct G based on this.*"
   ]
  },
  {
   "cell_type": "code",
   "execution_count": 59,
   "metadata": {},
   "outputs": [
    {
     "ename": "ValueError",
     "evalue": "f(a) and f(b) must have different signs",
     "output_type": "error",
     "traceback": [
      "\u001b[0;31m---------------------------------------------------------------------------\u001b[0m",
      "\u001b[0;31mValueError\u001b[0m                                Traceback (most recent call last)",
      "\u001b[0;32m/var/folders/qv/tz1h_hsd5fb2k7dm0jrqym9r0000gn/T/ipykernel_31921/954072089.py\u001b[0m in \u001b[0;36m<module>\u001b[0;34m\u001b[0m\n\u001b[1;32m     44\u001b[0m \u001b[0;34m\u001b[0m\u001b[0m\n\u001b[1;32m     45\u001b[0m \u001b[0;31m# Calculate G that solves the constraint equation for each set of parameters\u001b[0m\u001b[0;34m\u001b[0m\u001b[0;34m\u001b[0m\u001b[0m\n\u001b[0;32m---> 46\u001b[0;31m \u001b[0mG_set1\u001b[0m \u001b[0;34m=\u001b[0m \u001b[0mfind_G\u001b[0m\u001b[0;34m(\u001b[0m\u001b[0mtau_star\u001b[0m\u001b[0;34m,\u001b[0m \u001b[0mw\u001b[0m\u001b[0;34m,\u001b[0m \u001b[0msigma1\u001b[0m\u001b[0;34m,\u001b[0m \u001b[0mrho1\u001b[0m\u001b[0;34m,\u001b[0m \u001b[0mepsilon1\u001b[0m\u001b[0;34m)\u001b[0m\u001b[0;34m\u001b[0m\u001b[0;34m\u001b[0m\u001b[0m\n\u001b[0m\u001b[1;32m     47\u001b[0m \u001b[0mG_set2\u001b[0m \u001b[0;34m=\u001b[0m \u001b[0mfind_G\u001b[0m\u001b[0;34m(\u001b[0m\u001b[0mtau_star\u001b[0m\u001b[0;34m,\u001b[0m \u001b[0mw\u001b[0m\u001b[0;34m,\u001b[0m \u001b[0msigma2\u001b[0m\u001b[0;34m,\u001b[0m \u001b[0mrho2\u001b[0m\u001b[0;34m,\u001b[0m \u001b[0mepsilon2\u001b[0m\u001b[0;34m)\u001b[0m\u001b[0;34m\u001b[0m\u001b[0;34m\u001b[0m\u001b[0m\n\u001b[1;32m     48\u001b[0m \u001b[0;34m\u001b[0m\u001b[0m\n",
      "\u001b[0;32m/var/folders/qv/tz1h_hsd5fb2k7dm0jrqym9r0000gn/T/ipykernel_31921/954072089.py\u001b[0m in \u001b[0;36mfind_G\u001b[0;34m(tau, w, sigma, rho, epsilon)\u001b[0m\n\u001b[1;32m     27\u001b[0m         \u001b[0;32mreturn\u001b[0m \u001b[0mconstraint\u001b[0m\u001b[0;34m(\u001b[0m\u001b[0mG\u001b[0m\u001b[0;34m,\u001b[0m \u001b[0mw\u001b[0m\u001b[0;34m,\u001b[0m \u001b[0mtau\u001b[0m\u001b[0;34m,\u001b[0m \u001b[0msigma\u001b[0m\u001b[0;34m,\u001b[0m \u001b[0mrho\u001b[0m\u001b[0;34m,\u001b[0m \u001b[0mepsilon\u001b[0m\u001b[0;34m)\u001b[0m \u001b[0;34m-\u001b[0m \u001b[0mtau\u001b[0m \u001b[0;34m*\u001b[0m \u001b[0mw\u001b[0m \u001b[0;34m*\u001b[0m \u001b[0mconstraint\u001b[0m\u001b[0;34m(\u001b[0m\u001b[0mG\u001b[0m\u001b[0;34m,\u001b[0m \u001b[0mw\u001b[0m\u001b[0;34m,\u001b[0m \u001b[0mtau\u001b[0m\u001b[0;34m,\u001b[0m \u001b[0msigma\u001b[0m\u001b[0;34m,\u001b[0m \u001b[0mrho\u001b[0m\u001b[0;34m,\u001b[0m \u001b[0mepsilon\u001b[0m\u001b[0;34m)\u001b[0m \u001b[0;34m*\u001b[0m \u001b[0;34m(\u001b[0m\u001b[0;34m(\u001b[0m\u001b[0;36m1\u001b[0m \u001b[0;34m-\u001b[0m \u001b[0mtau\u001b[0m\u001b[0;34m)\u001b[0m \u001b[0;34m*\u001b[0m \u001b[0momega\u001b[0m\u001b[0;34m)\u001b[0m\u001b[0;34m\u001b[0m\u001b[0;34m\u001b[0m\u001b[0m\n\u001b[1;32m     28\u001b[0m \u001b[0;34m\u001b[0m\u001b[0m\n\u001b[0;32m---> 29\u001b[0;31m     \u001b[0mG_solution\u001b[0m \u001b[0;34m=\u001b[0m \u001b[0moptimize\u001b[0m\u001b[0;34m.\u001b[0m\u001b[0mroot_scalar\u001b[0m\u001b[0;34m(\u001b[0m\u001b[0mobjective\u001b[0m\u001b[0;34m,\u001b[0m \u001b[0mmethod\u001b[0m\u001b[0;34m=\u001b[0m\u001b[0;34m'brentq'\u001b[0m\u001b[0;34m,\u001b[0m \u001b[0mbracket\u001b[0m\u001b[0;34m=\u001b[0m\u001b[0;34m[\u001b[0m\u001b[0;36m0\u001b[0m\u001b[0;34m,\u001b[0m \u001b[0;36m100\u001b[0m\u001b[0;34m]\u001b[0m\u001b[0;34m)\u001b[0m\u001b[0;34m\u001b[0m\u001b[0;34m\u001b[0m\u001b[0m\n\u001b[0m\u001b[1;32m     30\u001b[0m     \u001b[0;32mreturn\u001b[0m \u001b[0mG_solution\u001b[0m\u001b[0;34m.\u001b[0m\u001b[0mroot\u001b[0m\u001b[0;34m\u001b[0m\u001b[0;34m\u001b[0m\u001b[0m\n\u001b[1;32m     31\u001b[0m \u001b[0;34m\u001b[0m\u001b[0m\n",
      "\u001b[0;32m~/opt/anaconda3/lib/python3.9/site-packages/scipy/optimize/_root_scalar.py\u001b[0m in \u001b[0;36mroot_scalar\u001b[0;34m(f, args, method, bracket, fprime, fprime2, x0, x1, xtol, rtol, maxiter, options)\u001b[0m\n\u001b[1;32m    247\u001b[0m \u001b[0;34m\u001b[0m\u001b[0m\n\u001b[1;32m    248\u001b[0m         \u001b[0ma\u001b[0m\u001b[0;34m,\u001b[0m \u001b[0mb\u001b[0m \u001b[0;34m=\u001b[0m \u001b[0mbracket\u001b[0m\u001b[0;34m[\u001b[0m\u001b[0;34m:\u001b[0m\u001b[0;36m2\u001b[0m\u001b[0;34m]\u001b[0m\u001b[0;34m\u001b[0m\u001b[0;34m\u001b[0m\u001b[0m\n\u001b[0;32m--> 249\u001b[0;31m         \u001b[0mr\u001b[0m\u001b[0;34m,\u001b[0m \u001b[0msol\u001b[0m \u001b[0;34m=\u001b[0m \u001b[0mmethodc\u001b[0m\u001b[0;34m(\u001b[0m\u001b[0mf\u001b[0m\u001b[0;34m,\u001b[0m \u001b[0ma\u001b[0m\u001b[0;34m,\u001b[0m \u001b[0mb\u001b[0m\u001b[0;34m,\u001b[0m \u001b[0margs\u001b[0m\u001b[0;34m=\u001b[0m\u001b[0margs\u001b[0m\u001b[0;34m,\u001b[0m \u001b[0;34m**\u001b[0m\u001b[0mkwargs\u001b[0m\u001b[0;34m)\u001b[0m\u001b[0;34m\u001b[0m\u001b[0;34m\u001b[0m\u001b[0m\n\u001b[0m\u001b[1;32m    250\u001b[0m     \u001b[0;32melif\u001b[0m \u001b[0mmeth\u001b[0m \u001b[0;32min\u001b[0m \u001b[0;34m[\u001b[0m\u001b[0;34m'secant'\u001b[0m\u001b[0;34m]\u001b[0m\u001b[0;34m:\u001b[0m\u001b[0;34m\u001b[0m\u001b[0;34m\u001b[0m\u001b[0m\n\u001b[1;32m    251\u001b[0m         \u001b[0;32mif\u001b[0m \u001b[0mx0\u001b[0m \u001b[0;32mis\u001b[0m \u001b[0;32mNone\u001b[0m\u001b[0;34m:\u001b[0m\u001b[0;34m\u001b[0m\u001b[0;34m\u001b[0m\u001b[0m\n",
      "\u001b[0;32m~/opt/anaconda3/lib/python3.9/site-packages/scipy/optimize/_zeros_py.py\u001b[0m in \u001b[0;36mbrentq\u001b[0;34m(f, a, b, args, xtol, rtol, maxiter, full_output, disp)\u001b[0m\n\u001b[1;32m    781\u001b[0m     \u001b[0;32mif\u001b[0m \u001b[0mrtol\u001b[0m \u001b[0;34m<\u001b[0m \u001b[0m_rtol\u001b[0m\u001b[0;34m:\u001b[0m\u001b[0;34m\u001b[0m\u001b[0;34m\u001b[0m\u001b[0m\n\u001b[1;32m    782\u001b[0m         \u001b[0;32mraise\u001b[0m \u001b[0mValueError\u001b[0m\u001b[0;34m(\u001b[0m\u001b[0;34m\"rtol too small (%g < %g)\"\u001b[0m \u001b[0;34m%\u001b[0m \u001b[0;34m(\u001b[0m\u001b[0mrtol\u001b[0m\u001b[0;34m,\u001b[0m \u001b[0m_rtol\u001b[0m\u001b[0;34m)\u001b[0m\u001b[0;34m)\u001b[0m\u001b[0;34m\u001b[0m\u001b[0;34m\u001b[0m\u001b[0m\n\u001b[0;32m--> 783\u001b[0;31m     \u001b[0mr\u001b[0m \u001b[0;34m=\u001b[0m \u001b[0m_zeros\u001b[0m\u001b[0;34m.\u001b[0m\u001b[0m_brentq\u001b[0m\u001b[0;34m(\u001b[0m\u001b[0mf\u001b[0m\u001b[0;34m,\u001b[0m \u001b[0ma\u001b[0m\u001b[0;34m,\u001b[0m \u001b[0mb\u001b[0m\u001b[0;34m,\u001b[0m \u001b[0mxtol\u001b[0m\u001b[0;34m,\u001b[0m \u001b[0mrtol\u001b[0m\u001b[0;34m,\u001b[0m \u001b[0mmaxiter\u001b[0m\u001b[0;34m,\u001b[0m \u001b[0margs\u001b[0m\u001b[0;34m,\u001b[0m \u001b[0mfull_output\u001b[0m\u001b[0;34m,\u001b[0m \u001b[0mdisp\u001b[0m\u001b[0;34m)\u001b[0m\u001b[0;34m\u001b[0m\u001b[0;34m\u001b[0m\u001b[0m\n\u001b[0m\u001b[1;32m    784\u001b[0m     \u001b[0;32mreturn\u001b[0m \u001b[0mresults_c\u001b[0m\u001b[0;34m(\u001b[0m\u001b[0mfull_output\u001b[0m\u001b[0;34m,\u001b[0m \u001b[0mr\u001b[0m\u001b[0;34m)\u001b[0m\u001b[0;34m\u001b[0m\u001b[0;34m\u001b[0m\u001b[0m\n\u001b[1;32m    785\u001b[0m \u001b[0;34m\u001b[0m\u001b[0m\n",
      "\u001b[0;31mValueError\u001b[0m: f(a) and f(b) must have different signs"
     ]
    }
   ],
   "source": [
    "import numpy as np\n",
    "from scipy import optimize\n",
    "\n",
    "# Define the parameters\n",
    "alpha = 0.5\n",
    "kappa = 1.0\n",
    "nu = 1 / (2 * 16 ** 2)\n",
    "omega = 1.0\n",
    "w = 1.0\n",
    "\n",
    "# Define the utility function\n",
    "def utility(L, w, tau, G, sigma, rho, epsilon):\n",
    "    C = kappa + (1 - tau) * w * L\n",
    "    return (((alpha * C * (sigma / (1 - sigma)) + (1 - alpha) * G * (sigma / (1 - sigma))) * (sigma / (1 - sigma))) * (1 - rho) - 1) / (1 - rho) - nu * L ** (1 + epsilon) / (1 + epsilon)\n",
    "\n",
    "# Define the constraint function\n",
    "def constraint(G, w, tau, sigma, rho, epsilon):\n",
    "    def objective(L):\n",
    "        return -utility(L, w, tau, G, sigma, rho, epsilon)\n",
    "    \n",
    "    result = optimize.minimize_scalar(objective, bounds=(0, 24), method='bounded')\n",
    "    return result.x\n",
    "\n",
    "# Define the function to find G that satisfies the constraint equation\n",
    "def find_G(tau, w, sigma, rho, epsilon):\n",
    "    def objective(G):\n",
    "        return constraint(G, w, tau, sigma, rho, epsilon) - tau * w * constraint(G, w, tau, sigma, rho, epsilon) * ((1 - tau) * omega)\n",
    "    \n",
    "    G_solution = optimize.root_scalar(objective, method='brentq', bracket=[0, 100])\n",
    "    return G_solution.root\n",
    "\n",
    "# Set 1: σ=1.001, ρ=1.001, ε=1.0\n",
    "sigma1 = 1.001\n",
    "rho1 = 1.001\n",
    "epsilon1 = 1.0\n",
    "\n",
    "# Set 2: σ=1.5, ρ=1.5, ε=1.0\n",
    "sigma2 = 1.5\n",
    "rho2 = 1.5\n",
    "epsilon2 = 1.0\n",
    "\n",
    "# Use the socially optimal tax rate obtained in Question 4\n",
    "tau_star = 0.300\n",
    "\n",
    "# Calculate G that solves the constraint equation for each set of parameters\n",
    "G_set1 = find_G(tau_star, w, sigma1, rho1, epsilon1)\n",
    "G_set2 = find_G(tau_star, w, sigma2, rho2, epsilon2)\n",
    "\n",
    "print(f\"For Set 1: G = {G_set1:.4f}\")\n",
    "print(f\"For Set 2: G = {G_set2:.4f}\")"
   ]
  },
  {
   "attachments": {},
   "cell_type": "markdown",
   "metadata": {},
   "source": [
    "**Question 6:** Find the socially optimal tax rate, $\\tau^{\\star}$, maximizing worker utility, while keeping $G = \\tau w L^{\\star}((1-\\tau)w,G)$."
   ]
  },
  {
   "cell_type": "code",
   "execution_count": 60,
   "metadata": {},
   "outputs": [
    {
     "name": "stdout",
     "output_type": "stream",
     "text": [
      "Set 1:\n",
      "G = 1.0, τ* = 0.0000, L* = 167762.0000, U* = 84021863422.9344\n",
      "G = 2.0, τ* = 0.0000, L* = 167762.0000, U* = 84022364423.4344\n",
      "\n",
      "Set 2:\n",
      "G = 1.0, τ* = 0.0004, L* = 2307.4145, U* = 5190.4867\n",
      "G = 2.0, τ* = 0.0004, L* = 2307.4145, U* = 5194.9867\n",
      "\n",
      "Socially optimal tax rates:\n",
      "G = 1.0, τ* = 0.0000\n",
      "G = 2.0, τ* = 0.0000\n"
     ]
    }
   ],
   "source": [
    "import numpy as np\n",
    "from scipy import optimize\n",
    "\n",
    "# Define the parameters\n",
    "alpha = 0.5\n",
    "kappa = 1.0\n",
    "nu = 1 / (2 * 16 ** 2)\n",
    "omega = 1.0\n",
    "w = 1.0\n",
    "\n",
    "# Define the utility function\n",
    "def utility(L, w, tau, G, sigma, rho, epsilon):\n",
    "    C = kappa + (1 - tau) * w * L\n",
    "    return (((alpha * C * (sigma / (1 - sigma)) + (1 - alpha) * G * (sigma / (1 - sigma))) * (sigma / (1 - sigma))) * (1 - rho) - 1) / (1 - rho) - nu * L ** (1 + epsilon) / (1 + epsilon)\n",
    "\n",
    "# Define the objective function to maximize utility\n",
    "def objective(tau, G, sigma, rho, epsilon):\n",
    "    L_star = G / (tau * w * ((1 - tau) * w * G))  # Using G=τwL*((1-τ)w,G)\n",
    "    U = -utility(L_star, w, tau, G, sigma, rho, epsilon)\n",
    "    return U\n",
    "\n",
    "# Set 1: σ=1.001, ρ=1.001, ε=1.0\n",
    "sigma1 = 1.001\n",
    "rho1 = 1.001\n",
    "epsilon1 = 1.0\n",
    "\n",
    "# Set 2: σ=1.5, ρ=1.5, ε=1.0\n",
    "sigma2 = 1.5\n",
    "rho2 = 1.5\n",
    "epsilon2 = 1.0\n",
    "\n",
    "# Perform optimization to find the socially optimal tax rate for each set of parameters\n",
    "G_values = [1.0, 2.0]\n",
    "tau_optimal = []\n",
    "\n",
    "for set_num, (sigma, rho, epsilon) in enumerate([(sigma1, rho1, epsilon1), (sigma2, rho2, epsilon2)], start=1):\n",
    "    print(f\"Set {set_num}:\")\n",
    "    for G in G_values:\n",
    "        # Define the objective function to maximize utility\n",
    "        objective_func = lambda tau: objective(tau, G, sigma, rho, epsilon)\n",
    "\n",
    "        # Set the bounds for tau between 0 and 1\n",
    "        bounds = (0, 1)\n",
    "\n",
    "        # Perform optimization to find the optimal tax rate\n",
    "        result = optimize.minimize_scalar(objective_func, bounds=bounds, method='bounded')\n",
    "        tau_star = result.x\n",
    "\n",
    "        # Store the optimal tax rate\n",
    "        tau_optimal.append(tau_star)\n",
    "\n",
    "        # Calculate the corresponding optimal labor supply (L*)\n",
    "        L_star = G / (tau_star * w * ((1 - tau_star) * w * G))\n",
    "\n",
    "        # Calculate the corresponding utility (U*)\n",
    "        U_star = utility(L_star, w, tau_star, G, sigma, rho, epsilon)\n",
    "\n",
    "        print(f\"G = {G}, τ* = {tau_star:.4f}, L* = {L_star:.4f}, U* = {U_star:.4f}\")\n",
    "\n",
    "    print()\n",
    "\n",
    "# Print the socially optimal tax rates for each G value\n",
    "print(\"Socially optimal tax rates:\")\n",
    "for i, G in enumerate(G_values):\n",
    "    print(f\"G = {G}, τ* = {tau_optimal[i]:.4f}\")"
   ]
  },
  {
   "attachments": {},
   "cell_type": "markdown",
   "metadata": {},
   "source": [
    "## 2. <a id='toc2_'></a>[Problem 2: Labor adjustment costs](#toc0_)"
   ]
  },
  {
   "attachments": {},
   "cell_type": "markdown",
   "metadata": {},
   "source": [
    "You own a hair salon. You employ hairdressers, $\\ell_t$, to produce haircuts, $y_t = \\ell_t$.\n",
    "\n",
    "The wage for each haridresser is $w$.\n",
    "\n",
    "The demand for haircuts implies that the price of haircuts you can charge is $p_t = \\kappa_t y_t^{-\\eta}$, where $\\kappa_t$ is a demand-shock and $\\eta \\in (0,1)$ measures the elasticity of demand.\n",
    "\n",
    "Profits are:\n",
    "\n",
    "$$\n",
    "\\Pi_t = p_t y_t - w \\ell_t = \\kappa_t \\ell_t^{1-\\eta} - w \\ell_t\n",
    "$$"
   ]
  },
  {
   "attachments": {},
   "cell_type": "markdown",
   "metadata": {},
   "source": [
    "Baseline parameters are:\n",
    "- $\\eta = 0.5$\n",
    "- $w = 1.0$"
   ]
  },
  {
   "attachments": {},
   "cell_type": "markdown",
   "metadata": {},
   "source": [
    "**Question 1:** Verify numerically that $\\ell_{t}=\\left(\\frac{(1-\\eta)\\kappa_{t}}{w}\\right)^{\\frac{1}{\\eta}}$ maximises profits, for $\\kappa\\in\\left\\{1.0 , 2.0\\right\\}$."
   ]
  },
  {
   "cell_type": "code",
   "execution_count": 19,
   "metadata": {},
   "outputs": [
    {
     "name": "stdout",
     "output_type": "stream",
     "text": [
      "The derivative of the profit function with respect to l_t:\n",
      "(-eta*kappa_t + kappa_t - l_t**eta*w)/l_t**eta\n",
      "The FOC wrt. l_t is:\n",
      "l_t = [(kappa_t*(1 - eta)/w)**(1/eta)]\n"
     ]
    }
   ],
   "source": [
    "# Set magics\n",
    "import sympy as sp\n",
    "\n",
    "# Define the symbols\n",
    "kappa_t, l_t, eta, w = sp.symbols('kappa_t l_t eta w')\n",
    "\n",
    "# Define the profit function\n",
    "profit = kappa_t * l_t**(1 - eta) - w * l_t\n",
    "\n",
    "# Calculate the derivative with respect to l_t\n",
    "derivative = sp.diff(profit, l_t)\n",
    "\n",
    "# Simplify the derivative expression\n",
    "derivative = sp.simplify(derivative)\n",
    "\n",
    "# Print the derivative\n",
    "print(\"The derivative of the profit function with respect to l_t:\")\n",
    "print(derivative)\n",
    "\n",
    "# Calculating the FOC\n",
    "FOC = sp.solve(derivative, l_t)\n",
    "\n",
    "# Print the FOC of l_t\n",
    "print(\"The FOC wrt. l_t is:\")\n",
    "print(\"l_t =\", FOC)\n",
    "\n"
   ]
  },
  {
   "cell_type": "code",
   "execution_count": 46,
   "metadata": {},
   "outputs": [
    {
     "name": "stdout",
     "output_type": "stream",
     "text": [
      "For κ = 1.0: Profit = 0.25\n",
      "For κ = 2.0: Profit = 1.00\n"
     ]
    }
   ],
   "source": [
    "import numpy as np\n",
    "\n",
    "η = 0.5\n",
    "w = 1.0\n",
    "\n",
    "κ_values = [1.0, 2.0]\n",
    "\n",
    "for κ in κ_values:\n",
    "    l = ((1 - η) * κ / w) ** (1 / η)\n",
    "    profit = κ * l ** (1 - η) - w * l\n",
    "    \n",
    "    print(f\"For κ = {κ}: Profit = {profit:.2f}\")"
   ]
  },
  {
   "attachments": {},
   "cell_type": "markdown",
   "metadata": {},
   "source": [
    "We now consider a *dynamic* version of the model.\n",
    "\n",
    "* The demand-shock is a so-called AR(1) in logs, \n",
    "\n",
    "$$\n",
    "\\log \\kappa_{t} = \\rho \\log \\kappa_{t-1} + \\epsilon_{t},\\,\\,\\, \\epsilon_{t+1} \\sim \\mathcal{N}(-0.5\\sigma_{\\epsilon}^2,\\sigma_{\\epsilon})\n",
    "$$\n",
    "\n",
    "* Any hiring or firing implies a fixed adjustment cost, $\\iota > 0 $.\n",
    "* Future profits are discounted with a monthly factor of $R \\in (0,1)$.\n",
    "\n",
    "The initial demand shock is $\\kappa_{-1} = 1$ and the planning horizon is 10 years, i.e. 120 months so $t \\in \\{0,1,2,\\dots,119\\}$. Initially you don't have any employees, $\\ell_{-1}=0$"
   ]
  },
  {
   "attachments": {},
   "cell_type": "markdown",
   "metadata": {},
   "source": [
    "\n",
    "The *ex post* value of the salon is *conditional* on the shock series is:\n",
    "\n",
    "$$\n",
    "h(\\epsilon_0,\\epsilon_1,\\dots,\\epsilon_{119}) = \\left[\\sum_{t=0}^{119}R^{-t}\\left[\\kappa_{t}\\ell_{t}^{1-\\eta}-w\\ell_{t}-\\boldsymbol{1}_{\\ell_{t}\\neq\\ell_{t-1}}\\iota\\right]\\right]\n",
    "$$\n",
    "\n",
    "The *ex ante* expected value of the salon can be approximated by\n",
    "\n",
    "$$\n",
    "H = \\mathbb{E}[h(\\epsilon_0,\\epsilon_1,\\dots,\\epsilon_{119})] \\approx \\frac{1}{K}\\sum_{k=0}^{K} h(\\epsilon_0^k,\\epsilon_1^k,\\dots,\\epsilon_{119}^k)\n",
    "$$\n",
    "\n",
    "where each $k\\in\\{0,1,\\dots,K-1\\}$ is a random shock series. Maximizing profitability means maximizing $H$.\n"
   ]
  },
  {
   "attachments": {},
   "cell_type": "markdown",
   "metadata": {},
   "source": [
    "Baseline parameters are: \n",
    "\n",
    "- $\\rho = 0.90$\n",
    "- $\\iota = 0.01$\n",
    "- $\\sigma_{\\epsilon} = 0.10$\n",
    "- $R = \\left(1+0.01\\right)^{1/12}$"
   ]
  },
  {
   "attachments": {},
   "cell_type": "markdown",
   "metadata": {},
   "source": [
    "**Question 2:** Calculate $H$ if the policy  $\\ell_{t}=\\left(\\frac{(1-\\eta)\\kappa_{t}}{w}\\right)^{\\frac{1}{\\eta}}$ from question 1 is followed. Choose $K$ so the approximation is good enough to not affect your results substantially."
   ]
  },
  {
   "cell_type": "code",
   "execution_count": 9,
   "metadata": {},
   "outputs": [],
   "source": [
    "# write your code here "
   ]
  },
  {
   "attachments": {},
   "cell_type": "markdown",
   "metadata": {},
   "source": [
    "Next, we consider policies on the form:\n",
    "\n",
    "$$\n",
    "\n",
    "\\ell_{t}=\\begin{cases}\n",
    "\\ell_t^{\\ast}  & \\text{if }\\left|\\ell_{t-1}-\\ell_t^{\\ast} \\right|>\\Delta\\\\\n",
    "\\ell_{t-1} & \\text{else }\n",
    "\\end{cases}\n",
    "\\\\\n",
    "\\text{where}\\,\\,\\ell_t^{\\ast} = \\left(\\frac{(1-\\eta)\\kappa_{t}}{w}\\right)^{\\frac{1}{\\eta}} \\\\\n",
    "\n",
    "$$\n",
    "With $\\Delta \\geq 0$ and $\\Delta = 0$ being the previous policy.\n"
   ]
  },
  {
   "attachments": {},
   "cell_type": "markdown",
   "metadata": {},
   "source": [
    "\n",
    "**Question 3:** Calculate $H$ if the policy above was followed with $\\Delta = 0.05$. Does it improve profitability?"
   ]
  },
  {
   "cell_type": "code",
   "execution_count": 10,
   "metadata": {},
   "outputs": [],
   "source": [
    "# write your code here"
   ]
  },
  {
   "attachments": {},
   "cell_type": "markdown",
   "metadata": {},
   "source": [
    "**Question 4:** Find the optimal $\\Delta$ maximizing $H$. Illustrate your result."
   ]
  },
  {
   "cell_type": "code",
   "execution_count": 11,
   "metadata": {},
   "outputs": [],
   "source": [
    "# write your code here"
   ]
  },
  {
   "attachments": {},
   "cell_type": "markdown",
   "metadata": {},
   "source": [
    "\n",
    "**Question 5:** Suggest an alternative policy you believe might improve profitability. Implement and test your policy.\n",
    "\n"
   ]
  },
  {
   "cell_type": "code",
   "execution_count": 12,
   "metadata": {},
   "outputs": [],
   "source": [
    "# write your code here"
   ]
  },
  {
   "attachments": {},
   "cell_type": "markdown",
   "metadata": {},
   "source": [
    "## 3. <a id='toc3_'></a>[Problem 3: Global optimizer with refined multi-start](#toc0_)"
   ]
  },
  {
   "attachments": {},
   "cell_type": "markdown",
   "metadata": {},
   "source": [
    "We consider the Griewank function:\n",
    "\n",
    "$$ f(\\boldsymbol{x}) = \\sum^n_{i=1} \\frac{x^2_i}{4000}-\\prod^n_{i=1}\\cos\\left(\\frac{x_i}{\\sqrt{i}}\\right)+1$$\n",
    "\n",
    "The **global minimum** of this function is $f(0,0) = 0$ (remember: $\\cos(0)=1$).<br>\n",
    "But the function also have a lot of **local minima**."
   ]
  },
  {
   "cell_type": "code",
   "execution_count": 49,
   "metadata": {},
   "outputs": [],
   "source": [
    "def griewank(x):\n",
    "    return griewank_(x[0],x[1])\n",
    "    \n",
    "def griewank_(x1,x2):\n",
    "    A = x1**2/4000 + x2**2/4000\n",
    "    B = np.cos(x1/np.sqrt(1))*np.cos(x2/np.sqrt(2))\n",
    "    return A-B+1"
   ]
  },
  {
   "attachments": {},
   "cell_type": "markdown",
   "metadata": {},
   "source": [
    "A **refined global optimizer with multi-start** is:\n",
    "\n",
    "1. Choose *bounds* for $\\mathbf{x}$ and *tolerance* $\\tau > 0$.\n",
    "2. Choose number of *warm-up iterations*, $\\underline{K} > 0$ and *maximum number of iterations*, $K > \\underline{K}$.\n",
    "3. In each iteration for $k \\in \\{0,1,\\dots,K-1\\}$:\n",
    "\n",
    "    A. Draw random $\\mathbf{x}^k$ uniformly within chosen bounds.\n",
    "\n",
    "    B. If $k < \\underline{K}$ go to step E.\n",
    "\n",
    "    C. Calculate $\\chi^k = 0.50\\cdot\\frac{2}{1+\\exp((k-\\underline{K})/100)}$  \n",
    "\n",
    "    D. Set $\\mathbf{x}^{k0} = \\chi^k \\mathbf{x}^k + (1-\\chi^k)\\mathbf{x}^{\\ast} $\n",
    "\n",
    "    E. Run optimizer with $\\mathbf{x}^{k0}$ as initial guess and $\\mathbf{x}^{k\\ast}$ as result.\n",
    "\n",
    "    F. Set $\\mathbf{x}^{\\ast} = \\mathbf{x}^{k\\ast}$ if $k = 0$ or $f(\\mathbf{x}^{k\\ast}) < f(\\mathbf{x}^{\\ast})$\n",
    "\n",
    "    G. If $f(\\mathbf{x}^{\\ast}) < \\tau$ go to step 4.\n",
    "\n",
    "4. Return the result $\\mathbf{x}^{\\ast}$."
   ]
  },
  {
   "attachments": {},
   "cell_type": "markdown",
   "metadata": {},
   "source": [
    "As settings we choose:\n",
    "\n",
    "* $x_1,x_2 \\in  [-600,600]$\n",
    "* $\\tau = 10^{-8}$\n",
    "* $\\underline{K}=10$\n",
    "* $K=1000$\n",
    "\n",
    "The optimizer in Step 3.E is `BFGS` with a tolerance of $\\tau$."
   ]
  },
  {
   "attachments": {},
   "cell_type": "markdown",
   "metadata": {},
   "source": [
    "**Question 1:** Implement the refined global optimizer with multi-start. Illustrate how the effective initial guesses $\\mathbf{x}^{k0}$ vary with the iteration counter $k$."
   ]
  },
  {
   "cell_type": "code",
   "execution_count": 51,
   "metadata": {},
   "outputs": [
    {
     "name": "stdout",
     "output_type": "stream",
     "text": [
      "Global Minimum:\n",
      "f(-0.00000001, -0.00000000) = 0.00000000\n"
     ]
    },
    {
     "data": {
      "image/png": "[encoded data removed]",
      "text/plain": [
       "<Figure size 640x480 with 1 Axes>"
      ]
     },
     "metadata": {},
     "output_type": "display_data"
    }
   ],
   "source": [
    "import numpy as np\n",
    "from scipy.optimize import minimize\n",
    "import matplotlib.pyplot as plt\n",
    "\n",
    "# The reader must be aware that in the following coding, K underlined is denoted as K1, and normal K is denoted as K2\n",
    "\n",
    "def refined_global_optimizer(bounds, tolerance, K1, K2):\n",
    "    x_star = None\n",
    "    x_initial_guesses = []\n",
    "    \n",
    "    # Iterate for k from 0 to K2-1\n",
    "    for k in range(K2):\n",
    "        # Step 3A: Draw random x_k uniformly within chosen bounds\n",
    "        x_k = np.random.uniform(bounds[0], bounds[1], size=2)\n",
    "        \n",
    "        # Step 3B: If k >= K1, calculate chi_k and modify the initial guess\n",
    "        if k >= K1:\n",
    "            chi_k = 0.5 * (2 / (1 + np.exp((k - K1) / 100)))\n",
    "            x_k0 = chi_k * x_k + (1 - chi_k) * x_star\n",
    "        else:\n",
    "            x_k0 = x_k\n",
    "        \n",
    "        # Step 3E: Run optimizer with modified initial guess x_k0\n",
    "        result = minimize(griewank, x_k0, method='BFGS', tol=tolerance)\n",
    "        \n",
    "        # Step 3F: Update x_star if a better minimum is found\n",
    "        if x_star is None or result.fun < griewank(x_star):\n",
    "            x_star = result.x\n",
    "        \n",
    "        # Store the initial guess for visualization\n",
    "        x_initial_guesses.append(x_k0)\n",
    "        \n",
    "        # Step 3G: If f(x*) < τ, exit the loop\n",
    "        if result.fun < tolerance:\n",
    "            break\n",
    "    \n",
    "    return x_star, x_initial_guesses\n",
    "\n",
    "# Setting\n",
    "bounds = [-600, 600]\n",
    "tolerance = 1e-8\n",
    "K1 = 10\n",
    "K2 = 1000\n",
    "\n",
    "# Run the optimizer\n",
    "x_star, x_initial_guesses = refined_global_optimizer(bounds, tolerance, K1, K2)\n",
    "\n",
    "# Print the global minimum\n",
    "print(\"Global Minimum:\")\n",
    "print(\"f({:.8f}, {:.8f}) = {:.8f}\".format(x_star[0], x_star[1], griewank(x_star)))\n",
    "\n",
    "# Plot the variation of initial guesses with iteration counter\n",
    "x_initial_guesses = np.array(x_initial_guesses)\n",
    "plt.scatter(x_initial_guesses[:, 0], x_initial_guesses[:, 1], c='b', label='Initial Guesses')\n",
    "plt.scatter(x_star[0], x_star[1], c='r', label='Global Minimum')\n",
    "plt.xlabel('x1')\n",
    "plt.ylabel('x2')\n",
    "plt.title('Variation of Initial Guesses with Iteration Counter')\n",
    "plt.legend()\n",
    "plt.show()\n"
   ]
  },
  {
   "attachments": {},
   "cell_type": "markdown",
   "metadata": {},
   "source": [
    "**Question 2:** Is it a better idea to set $\\underline{K} = 100$? Is the convergence faster?"
   ]
  },
  {
   "cell_type": "code",
   "execution_count": 54,
   "metadata": {},
   "outputs": [
    {
     "name": "stdout",
     "output_type": "stream",
     "text": [
      "Convergence is the same for both K1 values, why it is neither better or worse.\n"
     ]
    }
   ],
   "source": [
    "import numpy as np\n",
    "from scipy.optimize import minimize\n",
    "\n",
    "def griewank(x):\n",
    "    return griewank_(x[0], x[1])\n",
    "\n",
    "def griewank_(x1, x2):\n",
    "    A = x1**2 / 4000 + x2**2 / 4000\n",
    "    B = np.cos(x1 / np.sqrt(1)) * np.cos(x2 / np.sqrt(2))\n",
    "    return A - B + 1\n",
    "\n",
    "def refined_global_optimizer(bounds, tolerance, K1, K2):\n",
    "    x_star = None\n",
    "    \n",
    "    for k in range(K2):\n",
    "        x_k = np.random.uniform(bounds[0], bounds[1], size=2)\n",
    "        \n",
    "        if k >= K1:\n",
    "            chi_k = 0.5 * (2 / (1 + np.exp((k - K1) / 100)))\n",
    "            x_k0 = chi_k * x_k + (1 - chi_k) * x_star\n",
    "        else:\n",
    "            x_k0 = x_k\n",
    "        \n",
    "        result = minimize(griewank, x_k0, method='BFGS', tol=tolerance)\n",
    "        \n",
    "        if x_star is None or result.fun < griewank(x_star):\n",
    "            x_star = result.x\n",
    "        \n",
    "        if result.fun < tolerance:\n",
    "            break\n",
    "    \n",
    "    return x_star\n",
    "\n",
    "# Setting\n",
    "bounds = [-600, 600]\n",
    "tolerance = 1e-8\n",
    "K1_1 = 10  # Original value of K1\n",
    "K1_2 = 100  # New value of K1\n",
    "K2 = 1000\n",
    "\n",
    "# Run the optimizer with original K1 value\n",
    "x_star_1 = refined_global_optimizer(bounds, tolerance, K1_1, K2)\n",
    "\n",
    "# Run the optimizer with new K1 value\n",
    "x_star_2 = refined_global_optimizer(bounds, tolerance, K1_2, K2)\n",
    "\n",
    "# Calculate the number of iterations required for convergence\n",
    "iterations_1 = K2 if x_star_1 is None else K2 - 1\n",
    "iterations_2 = K2 if x_star_2 is None else K2 - 1\n",
    "\n",
    "# Compare the convergence\n",
    "if iterations_1 < iterations_2:\n",
    "    print(\"Convergence is faster with K1 = 10\")\n",
    "elif iterations_1 > iterations_2:\n",
    "    print(\"Convergence is faster with K1 = 100\")\n",
    "else:\n",
    "    print(\"Convergence is the same for both K1 values, why it is neither better or worse.\")\n"
   ]
  }
 ],
 "metadata": {
  "kernelspec": {
   "display_name": "base",
   "language": "python",
   "name": "python3"
  },
  "language_info": {
   "codemirror_mode": {
    "name": "ipython",
    "version": 3
   },
   "file_extension": ".py",
   "mimetype": "text/x-python",
   "name": "python",
   "nbconvert_exporter": "python",
   "pygments_lexer": "ipython3",
   "version": "3.9.13"
  },
  "orig_nbformat": 4,
  "vscode": {
   "interpreter": {
    "hash": "6956a9941805add0e73fc9c22eb468d4d8714fb7f536a305c5b1281b8d3c864b"
   }
  }
 },
 "nbformat": 4,
 "nbformat_minor": 2
}
