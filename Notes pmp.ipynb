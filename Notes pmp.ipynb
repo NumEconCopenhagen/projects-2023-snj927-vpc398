{
 "cells": [
  {
   "attachments": {},
   "cell_type": "markdown",
   "metadata": {},
   "source": [
    "# Notes (PMP)"
   ]
  },
  {
   "cell_type": "markdown",
   "metadata": {},
   "source": [
    "1. An **integrated development environment (IDE)** for many languages\n",
    "2. **This window:** *Editor*\n",
    "3. **Side-bar on left:** *Explorer*\n",
    "4. `.ipynb` are **Jupyter notebooks** with text and code\n",
    "5. `.py` are files with **Python code**\n",
    "\n",
    "**Change theme?** Try `Ctrl+Shift+P` and search for \"theme\"."
   ]
  },
  {
   "cell_type": "markdown",
   "metadata": {},
   "source": [
    "This is a `text cell`, or more precisely a `markdown cell`.\n",
    "\n",
    "* Pres <kbd>Enter</kbd> to go to *edit mode*\n",
    "* Pres <kbd>Esc</kbd> to go to *command mode*\n",
    "* Pres <kbd>Ctrl+Enter</kbd> to *run* the cell\n",
    "* Pres <kbd>Shift+Enter</kbd> to *run* the cell + advance"
   ]
  },
  {
   "attachments": {},
   "cell_type": "markdown",
   "metadata": {},
   "source": [
    "### 1.1. <a id='toc1_1_'></a>[Execution of code in cells](#toc0_)\n",
    "\n",
    "* **Movements**: Arrows and scrolling\n",
    "* **Run cell and advance:** <kbd>Shift</kbd>+<kbd>Enter</kbd>\n",
    "* **Run cell**: <kbd>Ctrl</kbd>+<kbd>Enter</kbd>\n",
    "* **Create cell below**: <kbd>B</kbd>\n",
    "* **Create cell above**: <kbd>A</kbd>\n",
    "* **Edit:** <kbd>Enter</kbd>\n",
    "* **Exit edit:** <kbd>Esc</kbd>\n",
    "* **Change to markdown cell:** <kbd>M</kbd>\n",
    "* **Change to code cell:** <kbd>Y</kbd>\n",
    "* **Delete cell:** <kbd>D+D</kbd>\n",
    "\n",
    "More short cuts [here](https://sites.google.com/view/numeconcph-introprog/guides/vscode)"
   ]
  },
  {
   "attachments": {},
   "cell_type": "markdown",
   "metadata": {},
   "source": [
    "To **create new notebook**, just search for it\n"
   ]
  }
 ],
 "metadata": {
  "kernelspec": {
   "display_name": "base",
   "language": "python",
   "name": "python3"
  },
  "language_info": {
   "codemirror_mode": {
    "name": "ipython",
    "version": 3
   },
   "file_extension": ".py",
   "mimetype": "text/x-python",
   "name": "python",
   "nbconvert_exporter": "python",
   "pygments_lexer": "ipython3",
   "version": "3.9.13"
  },
  "orig_nbformat": 4,
  "vscode": {
   "interpreter": {
    "hash": "6956a9941805add0e73fc9c22eb468d4d8714fb7f536a305c5b1281b8d3c864b"
   }
  }
 },
 "nbformat": 4,
 "nbformat_minor": 2
}
